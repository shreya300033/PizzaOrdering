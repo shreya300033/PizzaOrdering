{
 "cells": [
  {
   "cell_type": "code",
   "execution_count": 17,
   "id": "641cef23",
   "metadata": {},
   "outputs": [
    {
     "name": "stdout",
     "output_type": "stream",
     "text": [
      "                  PIZZA ORDERING                 \n",
      "1.Small pizza: 100\n",
      "2.Medium pizza : 200\n",
      "3.Large pizza : 300\n",
      "4.Pepperoni for small pizza : 30\n",
      "5.Perpperoni for medium and large pizza : 50\n",
      "6.Extra cheese for any size of pizza : 20\n",
      "\n",
      "What size pizza you want? (S/M/L)s\n",
      "Do you want pepperoni? (Y/N)y\n",
      "Do you want extra cheese? (Y/N)n\n",
      "Your final bill is 150\n"
     ]
    }
   ],
   "source": [
    "print(\"                  PIZZA ORDERING                 \")\n",
    "print(\"1.Small pizza: 100\")\n",
    "print(\"2.Medium pizza : 200\")\n",
    "print(\"3.Large pizza : 300\")\n",
    "print(\"4.Pepperoni for small pizza : 30\")\n",
    "print(\"5.Perpperoni for medium and large pizza : 50\")\n",
    "print(\"6.Extra cheese for any size of pizza : 20\")\n",
    "print(\"\")\n",
    "size = input(\"What size pizza you want? (S/M/L)\")\n",
    "bill = 0\n",
    "if size == 'S' or size == 's':\n",
    "    bill += 100\n",
    "elif size == 'M' or size == 'm':\n",
    "    bill += 200\n",
    "elif size == 'L' or size == 'l':\n",
    "    bill += 300\n",
    "else:\n",
    "    print(\"Enter a valid pizza size\")\n",
    "    \n",
    "#In the similar manner, we can add more toopings option and increment the bill acoording to our convience \n",
    "add_pepperoni = input(\"Do you want pepperoni? (Y/N)\")\n",
    "if add_pepperoni == 'Y' or add_pepperoni == 'y':\n",
    "    if size == 'S' or size == 's':\n",
    "        bill += 30\n",
    "    else:\n",
    "        bill +=50\n",
    "add_cheese = input(\"Do you want extra cheese? (Y/N)\")\n",
    "if add_cheese == 'Y' or 'y':\n",
    "    bill += 20\n",
    "    \n",
    "print(f\"Your final bill is {bill}\")"
   ]
  },
  {
   "cell_type": "code",
   "execution_count": null,
   "id": "5737091e",
   "metadata": {},
   "outputs": [],
   "source": []
  }
 ],
 "metadata": {
  "kernelspec": {
   "display_name": "Python 3 (ipykernel)",
   "language": "python",
   "name": "python3"
  },
  "language_info": {
   "codemirror_mode": {
    "name": "ipython",
    "version": 3
   },
   "file_extension": ".py",
   "mimetype": "text/x-python",
   "name": "python",
   "nbconvert_exporter": "python",
   "pygments_lexer": "ipython3",
   "version": "3.11.5"
  }
 },
 "nbformat": 4,
 "nbformat_minor": 5
}
